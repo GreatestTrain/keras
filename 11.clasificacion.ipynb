{
 "cells": [
  {
   "cell_type": "code",
   "execution_count": 2,
   "metadata": {},
   "outputs": [],
   "source": [
    "from keras.utils.np_utils import to_categorical\n",
    "from keras import regularizers\n",
    "from keras.models import Sequential\n",
    "from keras.layers import Conv2D, MaxPooling2D, Flatten, Dense, Dropout, Activation"
   ]
  },
  {
   "cell_type": "code",
   "execution_count": 3,
   "metadata": {},
   "outputs": [],
   "source": [
    "import numpy as np\n",
    "import matplotlib.pyplot as plt"
   ]
  },
  {
   "cell_type": "code",
   "execution_count": 4,
   "metadata": {},
   "outputs": [],
   "source": [
    "from keras.datasets import cifar10"
   ]
  },
  {
   "cell_type": "code",
   "execution_count": 5,
   "metadata": {},
   "outputs": [],
   "source": [
    "(X_train, y_train), (X_test, y_test) = cifar10.load_data()"
   ]
  },
  {
   "cell_type": "code",
   "execution_count": 7,
   "metadata": {},
   "outputs": [
    {
     "data": {
      "text/plain": [
       "<matplotlib.image.AxesImage at 0x17e21ae8eb0>"
      ]
     },
     "execution_count": 7,
     "metadata": {},
     "output_type": "execute_result"
    },
    {
     "data": {
      "image/png": "[encoded data removed]",
      "text/plain": [
       "<Figure size 640x480 with 1 Axes>"
      ]
     },
     "metadata": {},
     "output_type": "display_data"
    }
   ],
   "source": [
    "plt.imshow(X_train[0])"
   ]
  },
  {
   "cell_type": "code",
   "execution_count": 11,
   "metadata": {},
   "outputs": [],
   "source": [
    "train_images = X_train.astype(np.float32) / 255\n",
    "test_images = X_test.astype(np.float32) / 255"
   ]
  },
  {
   "cell_type": "code",
   "execution_count": 19,
   "metadata": {},
   "outputs": [],
   "source": [
    "num_classes = np.unique(y_train).__len__()\n",
    "train_labels = to_categorical(y_train, num_classes)\n",
    "test_labels = to_categorical(y_test, num_classes)"
   ]
  },
  {
   "cell_type": "code",
   "execution_count": 31,
   "metadata": {},
   "outputs": [],
   "source": [
    "shape_img = train_images.shape[1:]\n",
    "base_filtros = 32\n",
    "w_regularize = 1e-4"
   ]
  },
  {
   "cell_type": "code",
   "execution_count": 35,
   "metadata": {},
   "outputs": [
    {
     "name": "stdout",
     "output_type": "stream",
     "text": [
      "_________________________________________________________________\n",
      "Layer (type)                 Output Shape              Param #   \n",
      "=================================================================\n",
      "conv2d_3 (Conv2D)            (None, 32, 32, 32)        896       \n",
      "_________________________________________________________________\n",
      "activation_3 (Activation)    (None, 32, 32, 32)        0         \n",
      "_________________________________________________________________\n",
      "conv2d_4 (Conv2D)            (None, 32, 32, 32)        9248      \n",
      "_________________________________________________________________\n",
      "activation_4 (Activation)    (None, 32, 32, 32)        0         \n",
      "_________________________________________________________________\n",
      "max_pooling2d_2 (MaxPooling2 (None, 16, 16, 32)        0         \n",
      "_________________________________________________________________\n",
      "dropout_2 (Dropout)          (None, 16, 16, 32)        0         \n",
      "_________________________________________________________________\n",
      "conv2d_5 (Conv2D)            (None, 16, 16, 64)        18496     \n",
      "_________________________________________________________________\n",
      "activation_5 (Activation)    (None, 16, 16, 64)        0         \n",
      "_________________________________________________________________\n",
      "dropout_3 (Dropout)          (None, 16, 16, 64)        0         \n",
      "_________________________________________________________________\n",
      "conv2d_6 (Conv2D)            (None, 16, 16, 64)        36928     \n",
      "_________________________________________________________________\n",
      "activation_6 (Activation)    (None, 16, 16, 64)        0         \n",
      "_________________________________________________________________\n",
      "max_pooling2d_3 (MaxPooling2 (None, 8, 8, 64)          0         \n",
      "_________________________________________________________________\n",
      "dropout_4 (Dropout)          (None, 8, 8, 64)          0         \n",
      "_________________________________________________________________\n",
      "conv2d_7 (Conv2D)            (None, 8, 8, 128)         73856     \n",
      "_________________________________________________________________\n",
      "activation_7 (Activation)    (None, 8, 8, 128)         0         \n",
      "_________________________________________________________________\n",
      "conv2d_8 (Conv2D)            (None, 8, 8, 128)         147584    \n",
      "_________________________________________________________________\n",
      "activation_8 (Activation)    (None, 8, 8, 128)         0         \n",
      "_________________________________________________________________\n",
      "max_pooling2d_4 (MaxPooling2 (None, 4, 4, 128)         0         \n",
      "_________________________________________________________________\n",
      "dropout_5 (Dropout)          (None, 4, 4, 128)         0         \n",
      "_________________________________________________________________\n",
      "flatten_1 (Flatten)          (None, 2048)              0         \n",
      "_________________________________________________________________\n",
      "dense_1 (Dense)              (None, 10)                20490     \n",
      "=================================================================\n",
      "Total params: 307,498\n",
      "Trainable params: 307,498\n",
      "Non-trainable params: 0\n",
      "_________________________________________________________________\n"
     ]
    }
   ],
   "source": [
    "model = Sequential()\n",
    "\n",
    "model.add( Conv2D(filters=base_filtros,\n",
    "                  padding='same',\n",
    "                  kernel_size=(3,3),\n",
    "                  kernel_regularizer=regularizers.l2(l=w_regularize),\n",
    "                  input_shape=shape_img) )\n",
    "model.add(Activation('relu'))\n",
    "\n",
    "model.add( Conv2D(filters=base_filtros,\n",
    "                  padding='same',\n",
    "                  kernel_size=(3,3),\n",
    "                  kernel_regularizer=regularizers.l2(l=w_regularize)) )\n",
    "model.add(Activation('relu'))\n",
    "model.add(MaxPooling2D(pool_size=(2,2)))\n",
    "model.add(Dropout(0.2))\n",
    "# Capa 3\n",
    "model.add( Conv2D(filters=2*base_filtros,\n",
    "                  padding='same',\n",
    "                  kernel_size=(3,3),\n",
    "                  kernel_regularizer=regularizers.l2(l=w_regularize) ) )\n",
    "model.add(Activation('relu'))\n",
    "model.add(Dropout(0.2))\n",
    "# Capa 4\n",
    "model.add( Conv2D(filters=2*base_filtros,\n",
    "                  padding='same',\n",
    "                  kernel_size=(3,3),\n",
    "                  kernel_regularizer=regularizers.l2(l=w_regularize) ) )\n",
    "model.add(Activation('relu'))\n",
    "model.add(MaxPooling2D(pool_size=(2,2)))\n",
    "model.add(Dropout(0.3))\n",
    "# Capa 5\n",
    "model.add( Conv2D(filters=4*base_filtros,\n",
    "                  padding='same',\n",
    "                  kernel_size=(3,3),\n",
    "                  kernel_regularizer=regularizers.l2(l=w_regularize) ) )\n",
    "model.add(Activation('relu'))\n",
    "# Capa 6\n",
    "model.add( Conv2D(filters=4*base_filtros,\n",
    "                  padding='same',\n",
    "                  kernel_size=(3,3),\n",
    "                  kernel_regularizer=regularizers.l2(l=w_regularize) ) )\n",
    "model.add(Activation('relu'))\n",
    "model.add(MaxPooling2D(pool_size=(2,2)))\n",
    "model.add(Dropout(0.4))\n",
    "# Clasificación\n",
    "model.add(Flatten())\n",
    "model.add(Dense(num_classes, activation='softmax'))\n",
    "model.summary()\n"
   ]
  },
  {
   "cell_type": "code",
   "execution_count": 37,
   "metadata": {},
   "outputs": [],
   "source": [
    "model.compile(loss='categorical_crossentropy',\n",
    "              optimizer='adam',\n",
    "              metrics=['accuracy'])"
   ]
  },
  {
   "cell_type": "code",
   "execution_count": 43,
   "metadata": {},
   "outputs": [
    {
     "name": "stdout",
     "output_type": "stream",
     "text": [
      "Train on 45000 samples, validate on 5000 samples\n",
      "Epoch 1/25\n",
      " - 46s - loss: 0.7472 - acc: 0.7690 - val_loss: 0.7190 - val_acc: 0.7912\n",
      "Epoch 2/25\n",
      " - 30s - loss: 0.7372 - acc: 0.7733 - val_loss: 0.6976 - val_acc: 0.7916\n",
      "Epoch 3/25\n",
      " - 30s - loss: 0.7293 - acc: 0.7748 - val_loss: 0.6917 - val_acc: 0.7966\n",
      "Epoch 4/25\n",
      " - 30s - loss: 0.7220 - acc: 0.7780 - val_loss: 0.7066 - val_acc: 0.7922\n",
      "Epoch 5/25\n",
      " - 30s - loss: 0.7113 - acc: 0.7815 - val_loss: 0.6926 - val_acc: 0.8010\n",
      "Epoch 6/25\n",
      " - 30s - loss: 0.7117 - acc: 0.7807 - val_loss: 0.6825 - val_acc: 0.7980\n",
      "Epoch 7/25\n",
      " - 30s - loss: 0.7014 - acc: 0.7858 - val_loss: 0.6630 - val_acc: 0.8070\n",
      "Epoch 8/25\n",
      " - 30s - loss: 0.6985 - acc: 0.7885 - val_loss: 0.6857 - val_acc: 0.7990\n",
      "Epoch 9/25\n",
      " - 30s - loss: 0.6841 - acc: 0.7935 - val_loss: 0.6569 - val_acc: 0.8148\n",
      "Epoch 10/25\n",
      " - 30s - loss: 0.6875 - acc: 0.7923 - val_loss: 0.6726 - val_acc: 0.8090\n",
      "Epoch 11/25\n",
      " - 29s - loss: 0.6759 - acc: 0.7958 - val_loss: 0.6724 - val_acc: 0.8094\n",
      "Epoch 12/25\n",
      " - 29s - loss: 0.6781 - acc: 0.7968 - val_loss: 0.6623 - val_acc: 0.8132\n",
      "Epoch 13/25\n",
      " - 30s - loss: 0.6679 - acc: 0.8011 - val_loss: 0.6568 - val_acc: 0.8124\n",
      "Epoch 14/25\n",
      " - 29s - loss: 0.6659 - acc: 0.7997 - val_loss: 0.6745 - val_acc: 0.8122\n",
      "Epoch 15/25\n",
      " - 30s - loss: 0.6574 - acc: 0.8057 - val_loss: 0.6897 - val_acc: 0.8030\n",
      "Epoch 16/25\n",
      " - 30s - loss: 0.6516 - acc: 0.8073 - val_loss: 0.6897 - val_acc: 0.8038\n",
      "Epoch 17/25\n",
      " - 29s - loss: 0.6522 - acc: 0.8094 - val_loss: 0.7153 - val_acc: 0.7982\n",
      "Epoch 18/25\n",
      " - 30s - loss: 0.6532 - acc: 0.8070 - val_loss: 0.6842 - val_acc: 0.8054\n",
      "Epoch 19/25\n",
      " - 29s - loss: 0.6453 - acc: 0.8109 - val_loss: 0.6484 - val_acc: 0.8210\n",
      "Epoch 20/25\n",
      " - 30s - loss: 0.6474 - acc: 0.8068 - val_loss: 0.6912 - val_acc: 0.8068\n",
      "Epoch 21/25\n",
      " - 30s - loss: 0.6361 - acc: 0.8137 - val_loss: 0.6850 - val_acc: 0.8036\n",
      "Epoch 22/25\n",
      " - 30s - loss: 0.6356 - acc: 0.8140 - val_loss: 0.6756 - val_acc: 0.8128\n",
      "Epoch 23/25\n",
      " - 29s - loss: 0.6374 - acc: 0.8137 - val_loss: 0.6934 - val_acc: 0.7998\n",
      "Epoch 24/25\n",
      " - 29s - loss: 0.6366 - acc: 0.8151 - val_loss: 0.6670 - val_acc: 0.8174\n",
      "Epoch 25/25\n",
      " - 29s - loss: 0.6276 - acc: 0.8164 - val_loss: 0.6262 - val_acc: 0.8278\n"
     ]
    }
   ],
   "source": [
    "history = model.fit(train_images, train_labels,\n",
    "                    epochs=25,\n",
    "                    batch_size=64,\n",
    "                    validation_split=0.1,\n",
    "                    verbose=2,\n",
    "                    shuffle=True)"
   ]
  },
  {
   "cell_type": "code",
   "execution_count": 49,
   "metadata": {},
   "outputs": [
    {
     "data": {
      "text/plain": [
       "[<matplotlib.lines.Line2D at 0x17e483b5cd0>]"
      ]
     },
     "execution_count": 49,
     "metadata": {},
     "output_type": "execute_result"
    },
    {
     "data": {
      "image/png": "[encoded data removed]",
      "text/plain": [
       "<Figure size 640x480 with 1 Axes>"
      ]
     },
     "metadata": {},
     "output_type": "display_data"
    }
   ],
   "source": [
    "plt.plot(history.history['acc'], label='train')\n",
    "plt.plot(history.history['val_acc'], label='val')"
   ]
  },
  {
   "cell_type": "code",
   "execution_count": 51,
   "metadata": {},
   "outputs": [
    {
     "name": "stdout",
     "output_type": "stream",
     "text": [
      "10000/10000 [==============================] - 19s 2ms/step\n"
     ]
    },
    {
     "data": {
      "text/plain": [
       "[0.6492817508697509, 0.8142]"
      ]
     },
     "execution_count": 51,
     "metadata": {},
     "output_type": "execute_result"
    }
   ],
   "source": [
    "model.evaluate(test_images, test_labels)"
   ]
  }
 ],
 "metadata": {
  "kernelspec": {
   "display_name": "Python 3.9.13 ('plaidml')",
   "language": "python",
   "name": "python3"
  },
  "language_info": {
   "codemirror_mode": {
    "name": "ipython",
    "version": 3
   },
   "file_extension": ".py",
   "mimetype": "text/x-python",
   "name": "python",
   "nbconvert_exporter": "python",
   "pygments_lexer": "ipython3",
   "version": "3.9.13"
  },
  "orig_nbformat": 4,
  "vscode": {
   "interpreter": {
    "hash": "f7c713c46db9a2e40d7bb991c700883bcdff578822ccebcac57e282ac1e82c29"
   }
  }
 },
 "nbformat": 4,
 "nbformat_minor": 2
}
