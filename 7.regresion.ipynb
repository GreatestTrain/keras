{
 "cells": [
  {
   "cell_type": "code",
   "execution_count": 1,
   "metadata": {},
   "outputs": [],
   "source": [
    "import numpy as np\n",
    "import pandas as pd"
   ]
  },
  {
   "cell_type": "code",
   "execution_count": 2,
   "metadata": {},
   "outputs": [],
   "source": [
    "from keras.datasets import boston_housing\n",
    "from keras import (\n",
    "    models, layers, regularizers, optimizers\n",
    ")"
   ]
  },
  {
   "cell_type": "code",
   "execution_count": 3,
   "metadata": {},
   "outputs": [
    {
     "name": "stdout",
     "output_type": "stream",
     "text": [
      "Downloading data from https://storage.googleapis.com/tensorflow/tf-keras-datasets/boston_housing.npz\n",
      "57344/57026 [==============================] - 0s 4us/step\n",
      "65536/57026 [==================================] - 0s 3us/step\n"
     ]
    }
   ],
   "source": [
    "(train_data, train_labels), (test_data, test_labels) = boston_housing.load_data()"
   ]
  },
  {
   "cell_type": "code",
   "execution_count": 7,
   "metadata": {},
   "outputs": [
    {
     "data": {
      "text/plain": [
       "array([  1.23247,   0.     ,   8.14   ,   0.     ,   0.538  ,   6.142  ,\n",
       "        91.7    ,   3.9769 ,   4.     , 307.     ,  21.     , 396.9    ,\n",
       "        18.72   ])"
      ]
     },
     "execution_count": 7,
     "metadata": {},
     "output_type": "execute_result"
    }
   ],
   "source": [
    "train_data[0]"
   ]
  },
  {
   "cell_type": "code",
   "execution_count": 8,
   "metadata": {},
   "outputs": [],
   "source": [
    "from tensorflow.keras.layers import Normalization"
   ]
  },
  {
   "cell_type": "code",
   "execution_count": 27,
   "metadata": {},
   "outputs": [],
   "source": [
    "mean = train_data.mean(axis=0)\n",
    "std = train_data.std(axis=0)\n",
    "train_data -= mean \n",
    "train_data /= std\n",
    "\n",
    "test_data -= mean\n",
    "test_data /= std"
   ]
  },
  {
   "cell_type": "code",
   "execution_count": 28,
   "metadata": {},
   "outputs": [],
   "source": [
    "def build(lr_var, input_data):\n",
    "    model = models.Sequential()\n",
    "    model.add(layers.Dense(64, activation='relu', input_shape=(input_data)))\n",
    "    model.add(layers.Dense(64, activation='relu', ))\n",
    "    model.add(layers.Dense(1))\n",
    "    model.compile(loss='mse',\n",
    "                  optimizer='rmsprop',\n",
    "                  metrics=['mae', 'mape'])\n",
    "    return model"
   ]
  },
  {
   "cell_type": "code",
   "execution_count": 58,
   "metadata": {},
   "outputs": [],
   "source": [
    "k = 4\n",
    "num_val_samples = len(train_data) // k\n",
    "num_epoch = 500\n",
    "all_history = []"
   ]
  },
  {
   "cell_type": "code",
   "execution_count": 47,
   "metadata": {},
   "outputs": [],
   "source": [
    "import sys"
   ]
  },
  {
   "cell_type": "code",
   "execution_count": 59,
   "metadata": {},
   "outputs": [
    {
     "name": "stdout",
     "output_type": "stream",
     "text": [
      "Fold: 0\n",
      "Fold: 1\n",
      "Fold: 2\n",
      "Fold: 3\n"
     ]
    }
   ],
   "source": [
    "for i in range(k):\n",
    "    print('Fold: {}'.format(i))\n",
    "    val_data = train_data[i*num_val_samples : (i+1) * num_val_samples]\n",
    "    val_target = train_labels[i*num_val_samples : (i+1) * num_val_samples]\n",
    "    partial_train_data = np.concatenate(\n",
    "        [train_data[:i * num_val_samples], train_data[(i+1)*num_val_samples:]],\n",
    "        axis=0\n",
    "    )\n",
    "    partial_target_data = np.concatenate(\n",
    "        [train_labels[:i * num_val_samples], train_labels[(i+1)*num_val_samples:]],\n",
    "        axis=0\n",
    "    )\n",
    "    model = build(0.001,(13,))\n",
    "    history = model.fit(partial_train_data, partial_target_data,\n",
    "                        epochs= num_epoch,\n",
    "                        batch_size = 16,\n",
    "                        validation_data=(val_data, val_target),\n",
    "                        verbose=0\n",
    "    )\n",
    "    # print(pd.DataFrame(history.history).apply(np.mean))\n",
    "    all_history.append(history.history)"
   ]
  },
  {
   "cell_type": "code",
   "execution_count": 61,
   "metadata": {},
   "outputs": [
    {
     "data": {
      "text/html": [
       "<div>\n",
       "<style scoped>\n",
       "    .dataframe tbody tr th:only-of-type {\n",
       "        vertical-align: middle;\n",
       "    }\n",
       "\n",
       "    .dataframe tbody tr th {\n",
       "        vertical-align: top;\n",
       "    }\n",
       "\n",
       "    .dataframe thead th {\n",
       "        text-align: right;\n",
       "    }\n",
       "</style>\n",
       "<table border=\"1\" class=\"dataframe\">\n",
       "  <thead>\n",
       "    <tr style=\"text-align: right;\">\n",
       "      <th></th>\n",
       "      <th>loss</th>\n",
       "      <th>mae</th>\n",
       "      <th>mape</th>\n",
       "      <th>val_loss</th>\n",
       "      <th>val_mae</th>\n",
       "      <th>val_mape</th>\n",
       "    </tr>\n",
       "  </thead>\n",
       "  <tbody>\n",
       "    <tr>\n",
       "      <th>0</th>\n",
       "      <td>7.128660</td>\n",
       "      <td>1.440010</td>\n",
       "      <td>7.082534</td>\n",
       "      <td>11.909209</td>\n",
       "      <td>2.219049</td>\n",
       "      <td>12.813920</td>\n",
       "    </tr>\n",
       "    <tr>\n",
       "      <th>1</th>\n",
       "      <td>6.361312</td>\n",
       "      <td>1.337122</td>\n",
       "      <td>6.671543</td>\n",
       "      <td>17.291090</td>\n",
       "      <td>2.790302</td>\n",
       "      <td>16.364497</td>\n",
       "    </tr>\n",
       "    <tr>\n",
       "      <th>2</th>\n",
       "      <td>5.998555</td>\n",
       "      <td>1.238866</td>\n",
       "      <td>6.071365</td>\n",
       "      <td>16.007120</td>\n",
       "      <td>2.638976</td>\n",
       "      <td>13.786133</td>\n",
       "    </tr>\n",
       "    <tr>\n",
       "      <th>3</th>\n",
       "      <td>7.141792</td>\n",
       "      <td>1.372085</td>\n",
       "      <td>7.045649</td>\n",
       "      <td>16.604478</td>\n",
       "      <td>2.658613</td>\n",
       "      <td>12.376574</td>\n",
       "    </tr>\n",
       "  </tbody>\n",
       "</table>\n",
       "</div>"
      ],
      "text/plain": [
       "       loss       mae      mape   val_loss   val_mae   val_mape\n",
       "0  7.128660  1.440010  7.082534  11.909209  2.219049  12.813920\n",
       "1  6.361312  1.337122  6.671543  17.291090  2.790302  16.364497\n",
       "2  5.998555  1.238866  6.071365  16.007120  2.638976  13.786133\n",
       "3  7.141792  1.372085  7.045649  16.604478  2.658613  12.376574"
      ]
     },
     "execution_count": 61,
     "metadata": {},
     "output_type": "execute_result"
    }
   ],
   "source": [
    "pd.DataFrame(all_history).applymap(np.mean)"
   ]
  },
  {
   "cell_type": "code",
   "execution_count": 115,
   "metadata": {},
   "outputs": [],
   "source": [
    "import matplotlib.pyplot as plt\n",
    "%matplotlib widget"
   ]
  },
  {
   "cell_type": "code",
   "execution_count": 121,
   "metadata": {},
   "outputs": [
    {
     "data": {
      "application/vnd.jupyter.widget-view+json": {
       "model_id": "7f472e562a0e4cc28b86aa24804c5531",
       "version_major": 2,
       "version_minor": 0
      },
      "image/png": "[encoded data removed]",
      "text/html": [
       "\n",
       "            <div style=\"display: inline-block;\">\n",
       "                <div class=\"jupyter-widgets widget-label\" style=\"text-align: center;\">\n",
       "                    Figure\n",
       "                </div>\n",
       "                <img src='data:image/png;base64,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' width=700.0/>\n",
       "            </div>\n",
       "        "
      ],
      "text/plain": [
       "Canvas(toolbar=Toolbar(toolitems=[('Home', 'Reset original view', 'home', 'home'), ('Back', 'Back to previous …"
      ]
     },
     "metadata": {},
     "output_type": "display_data"
    }
   ],
   "source": [
    "fig = plt.figure(figsize=(7,4))\n",
    "fig.suptitle('mae')\n",
    "ax = fig.add_subplot(111)\n",
    "for spine in ['top', 'right']:\n",
    "    ax.spines[spine].set_visible(False)\n",
    "# ax.spines = ['left', 'bottom']\n",
    "hist = pd.DataFrame(all_history).applymap(np.array)\n",
    "for idx, data in enumerate(hist['mae']):\n",
    "    ax.plot(data, label=str(idx))\n",
    "ax.legend()\n",
    "# ax.set_ylim(0,2)\n",
    "plt.show()"
   ]
  },
  {
   "cell_type": "code",
   "execution_count": 111,
   "metadata": {},
   "outputs": [
    {
     "name": "stdout",
     "output_type": "stream",
     "text": [
      "4/4 [==============================] - 0s 2ms/step - loss: 17.3929 - mae: 2.8060 - mape: 13.5557\n"
     ]
    },
    {
     "data": {
      "text/plain": [
       "[17.392852783203125, 2.8060340881347656, 13.555702209472656]"
      ]
     },
     "execution_count": 111,
     "metadata": {},
     "output_type": "execute_result"
    }
   ],
   "source": [
    "model.evaluate(test_data, test_labels)"
   ]
  }
 ],
 "metadata": {
  "kernelspec": {
   "display_name": "Python 3.9.13 ('keras')",
   "language": "python",
   "name": "python3"
  },
  "language_info": {
   "codemirror_mode": {
    "name": "ipython",
    "version": 3
   },
   "file_extension": ".py",
   "mimetype": "text/x-python",
   "name": "python",
   "nbconvert_exporter": "python",
   "pygments_lexer": "ipython3",
   "version": "3.9.13"
  },
  "orig_nbformat": 4,
  "vscode": {
   "interpreter": {
    "hash": "cab762abd1b5be49b5e7e0f864397448e1361aa5c3e6c6b0f1af018e88764941"
   }
  }
 },
 "nbformat": 4,
 "nbformat_minor": 2
}
