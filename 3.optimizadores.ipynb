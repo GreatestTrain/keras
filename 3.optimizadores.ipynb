{
 "cells": [
  {
   "cell_type": "markdown",
   "metadata": {},
   "source": [
    "# _Back Propagation_"
   ]
  },
  {
   "cell_type": "markdown",
   "metadata": {},
   "source": [
    "* Delta de la última capa\n",
    "$$\\delta[L] = \\frac{\\partial{C}}{\\partial{a[L]}} \\cdot \\frac{\\partial{a[L]}}{\\partial{z[L]}} $$\n",
    "* Delta de la capa actual (menos la última)\n",
    "$$\\delta[l-1] = W[l]\\delta{[l]} \\cdot \\frac{\\partial{a[l-1]}}{\\partial{z[l-1]}}$$\n",
    "* Delta por neurona\n",
    "$$\\delta[l-1] \\cdot \\delta[l-2]$$\n",
    "\n",
    "- $L$: Última capa\n",
    "- $l-1$: Capa actual\n",
    "- $W$: _Weights_\n",
    "- $a$: Función de activación\n",
    "- $z$: Salida de la neurona, antes de la activación\n",
    "- $C$: Función de coste"
   ]
  },
  {
   "cell_type": "code",
   "execution_count": 1,
   "metadata": {},
   "outputs": [
    {
     "name": "stderr",
     "output_type": "stream",
     "text": [
      "UsageError: Cell magic `%%cython` not found.\n"
     ]
    }
   ],
   "source": [
    "%%cython\n",
    "print(\"hola\")"
   ]
  }
 ],
 "metadata": {
  "kernelspec": {
   "display_name": "Python 3.9.13 ('keras')",
   "language": "python",
   "name": "python3"
  },
  "language_info": {
   "codemirror_mode": {
    "name": "ipython",
    "version": 3
   },
   "file_extension": ".py",
   "mimetype": "text/x-python",
   "name": "python",
   "nbconvert_exporter": "python",
   "pygments_lexer": "ipython3",
   "version": "3.9.13"
  },
  "orig_nbformat": 4,
  "vscode": {
   "interpreter": {
    "hash": "cab762abd1b5be49b5e7e0f864397448e1361aa5c3e6c6b0f1af018e88764941"
   }
  }
 },
 "nbformat": 4,
 "nbformat_minor": 2
}
