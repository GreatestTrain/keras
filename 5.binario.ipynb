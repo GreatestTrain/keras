{
 "cells": [
  {
   "cell_type": "code",
   "execution_count": 1,
   "metadata": {},
   "outputs": [],
   "source": [
    "import numpy as np\n",
    "import matplotlib.pyplot as plt"
   ]
  },
  {
   "cell_type": "code",
   "execution_count": 2,
   "metadata": {},
   "outputs": [],
   "source": [
    "from keras.datasets import imdb\n",
    "from keras import (\n",
    "    models, layers, optimizers\n",
    ")\n",
    "from tensorflow.keras.utils import to_categorical"
   ]
  },
  {
   "cell_type": "code",
   "execution_count": 3,
   "metadata": {},
   "outputs": [],
   "source": [
    "(train_data, train_labels), (test_data, test_labels) = imdb.load_data(num_words=10000)"
   ]
  },
  {
   "cell_type": "code",
   "execution_count": 4,
   "metadata": {},
   "outputs": [],
   "source": [
    "word_index = imdb.get_word_index()\n",
    "word_index = {value: key for key, value in word_index.items()}"
   ]
  },
  {
   "cell_type": "code",
   "execution_count": 5,
   "metadata": {},
   "outputs": [
    {
     "name": "stdout",
     "output_type": "stream",
     "text": [
      "None\n",
      "this\n",
      "film\n",
      "was\n",
      "just\n",
      "brilliant\n",
      "casting\n",
      "location\n",
      "scenery\n",
      "story\n",
      "direction\n",
      "everyone's\n",
      "really\n",
      "suited\n",
      "the\n",
      "part\n",
      "they\n",
      "played\n",
      "and\n",
      "you\n",
      "could\n",
      "just\n",
      "imagine\n",
      "being\n",
      "there\n",
      "robert\n",
      "None\n",
      "is\n",
      "an\n",
      "amazing\n",
      "actor\n",
      "and\n",
      "now\n",
      "the\n",
      "same\n",
      "being\n",
      "director\n",
      "None\n",
      "father\n",
      "came\n",
      "from\n",
      "the\n",
      "same\n",
      "scottish\n",
      "island\n",
      "as\n",
      "myself\n",
      "so\n",
      "i\n",
      "loved\n",
      "the\n",
      "fact\n",
      "there\n",
      "was\n",
      "a\n",
      "real\n",
      "connection\n",
      "with\n",
      "this\n",
      "film\n",
      "the\n",
      "witty\n",
      "remarks\n",
      "throughout\n",
      "the\n",
      "film\n",
      "were\n",
      "great\n",
      "it\n",
      "was\n",
      "just\n",
      "brilliant\n",
      "so\n",
      "much\n",
      "that\n",
      "i\n",
      "bought\n",
      "the\n",
      "film\n",
      "as\n",
      "soon\n",
      "as\n",
      "it\n",
      "was\n",
      "released\n",
      "for\n",
      "None\n",
      "and\n",
      "would\n",
      "recommend\n",
      "it\n",
      "to\n",
      "everyone\n",
      "to\n",
      "watch\n",
      "and\n",
      "the\n",
      "fly\n",
      "fishing\n",
      "was\n",
      "amazing\n",
      "really\n",
      "cried\n",
      "at\n",
      "the\n",
      "end\n",
      "it\n",
      "was\n",
      "so\n",
      "sad\n",
      "and\n",
      "you\n",
      "know\n",
      "what\n",
      "they\n",
      "say\n",
      "if\n",
      "you\n",
      "cry\n",
      "at\n",
      "a\n",
      "film\n",
      "it\n",
      "must\n",
      "have\n",
      "been\n",
      "good\n",
      "and\n",
      "this\n",
      "definitely\n",
      "was\n",
      "also\n",
      "None\n",
      "to\n",
      "the\n",
      "two\n",
      "little\n",
      "boy's\n",
      "that\n",
      "played\n",
      "the\n",
      "None\n",
      "of\n",
      "norman\n",
      "and\n",
      "paul\n",
      "they\n",
      "were\n",
      "just\n",
      "brilliant\n",
      "children\n",
      "are\n",
      "often\n",
      "left\n",
      "out\n",
      "of\n",
      "the\n",
      "None\n",
      "list\n",
      "i\n",
      "think\n",
      "because\n",
      "the\n",
      "stars\n",
      "that\n",
      "play\n",
      "them\n",
      "all\n",
      "grown\n",
      "up\n",
      "are\n",
      "such\n",
      "a\n",
      "big\n",
      "profile\n",
      "for\n",
      "the\n",
      "whole\n",
      "film\n",
      "but\n",
      "these\n",
      "children\n",
      "are\n",
      "amazing\n",
      "and\n",
      "should\n",
      "be\n",
      "praised\n",
      "for\n",
      "what\n",
      "they\n",
      "have\n",
      "done\n",
      "don't\n",
      "you\n",
      "think\n",
      "the\n",
      "whole\n",
      "story\n",
      "was\n",
      "so\n",
      "lovely\n",
      "because\n",
      "it\n",
      "was\n",
      "true\n",
      "and\n",
      "was\n",
      "someone's\n",
      "life\n",
      "after\n",
      "all\n",
      "that\n",
      "was\n",
      "shared\n",
      "with\n",
      "us\n",
      "all\n"
     ]
    }
   ],
   "source": [
    "for _ in train_data[0]:\n",
    "    print(word_index.get(_ - 3))"
   ]
  },
  {
   "cell_type": "code",
   "execution_count": 6,
   "metadata": {},
   "outputs": [],
   "source": [
    "# dim = np.max(np.apply_along_axis(np.max,0,train_data))\n",
    "def vectorizar(sequences, dim=10000):\n",
    "    results = np.zeros((len(sequences), dim), dtype=np.int8)\n",
    "    for i, sequences in enumerate(sequences):\n",
    "        results[i, sequences] = 1\n",
    "    return results"
   ]
  },
  {
   "cell_type": "code",
   "execution_count": 7,
   "metadata": {},
   "outputs": [
    {
     "data": {
      "text/plain": [
       "array([0, 1, 2, 3, 4, 4], dtype=int8)"
      ]
     },
     "execution_count": 7,
     "metadata": {},
     "output_type": "execute_result"
    }
   ],
   "source": [
    "np.array([0,1,2,3,4,4], dtype=np.int8)"
   ]
  },
  {
   "cell_type": "code",
   "execution_count": 8,
   "metadata": {},
   "outputs": [
    {
     "data": {
      "text/plain": [
       "(array([[0, 1, 1, ..., 0, 0, 0],\n",
       "        [0, 1, 1, ..., 0, 0, 0],\n",
       "        [0, 1, 1, ..., 0, 0, 0],\n",
       "        ...,\n",
       "        [0, 1, 1, ..., 0, 0, 0],\n",
       "        [0, 1, 1, ..., 0, 0, 0],\n",
       "        [0, 1, 1, ..., 0, 0, 0]], dtype=int8),\n",
       " array([[0, 1, 1, ..., 0, 0, 0],\n",
       "        [0, 1, 1, ..., 0, 0, 0],\n",
       "        [0, 1, 1, ..., 0, 0, 0],\n",
       "        ...,\n",
       "        [0, 1, 1, ..., 0, 0, 0],\n",
       "        [0, 1, 1, ..., 0, 0, 0],\n",
       "        [0, 1, 1, ..., 0, 0, 0]], dtype=int8))"
      ]
     },
     "execution_count": 8,
     "metadata": {},
     "output_type": "execute_result"
    }
   ],
   "source": [
    "X_train = vectorizar(train_data)\n",
    "X_test = vectorizar(test_data)\n",
    "X_train, X_test"
   ]
  },
  {
   "cell_type": "code",
   "execution_count": 9,
   "metadata": {},
   "outputs": [],
   "source": [
    "y_train = train_labels.astype(np.int8)\n",
    "y_test = test_labels.astype(np.int8)"
   ]
  },
  {
   "cell_type": "code",
   "execution_count": 10,
   "metadata": {},
   "outputs": [],
   "source": [
    "from tensorflow.keras import (\n",
    "    activations, optimizers, losses, metrics\n",
    ")"
   ]
  },
  {
   "cell_type": "code",
   "execution_count": 11,
   "metadata": {},
   "outputs": [
    {
     "data": {
      "text/plain": [
       "['binary_crossentropy',\n",
       " 'categorical_crossentropy',\n",
       " 'hinge',\n",
       " 'kl_divergence',\n",
       " 'KLD',\n",
       " 'kld',\n",
       " 'kullback_leibler_divergence',\n",
       " 'log_cosh',\n",
       " 'logcosh',\n",
       " 'mean_absolute_error',\n",
       " 'MAE',\n",
       " 'mae',\n",
       " 'mean_absolute_percentage_error',\n",
       " 'MAPE',\n",
       " 'mape',\n",
       " 'mean_squared_error',\n",
       " 'MSE',\n",
       " 'mse',\n",
       " 'mean_squared_logarithmic_error',\n",
       " 'MSLE',\n",
       " 'msle',\n",
       " 'poisson',\n",
       " 'sparse_categorical_crossentropy',\n",
       " 'squared_hinge',\n",
       " 'AUC',\n",
       " 'Accuracy',\n",
       " 'BinaryAccuracy',\n",
       " 'BinaryCrossentropy',\n",
       " 'CategoricalAccuracy',\n",
       " 'CategoricalCrossentropy',\n",
       " 'CategoricalHinge',\n",
       " 'CosineSimilarity',\n",
       " 'FalseNegatives',\n",
       " 'FalsePositives',\n",
       " 'Hinge',\n",
       " 'KLDivergence',\n",
       " 'LogCoshError',\n",
       " 'Mean',\n",
       " 'MeanAbsoluteError',\n",
       " 'MeanAbsolutePercentageError',\n",
       " 'MeanIoU',\n",
       " 'MeanMetricWrapper',\n",
       " 'MeanRelativeError',\n",
       " 'MeanSquaredError',\n",
       " 'MeanSquaredLogarithmicError',\n",
       " 'MeanTensor',\n",
       " 'Metric',\n",
       " 'Poisson',\n",
       " 'Precision',\n",
       " 'PrecisionAtRecall',\n",
       " 'Recall',\n",
       " 'RecallAtPrecision',\n",
       " 'RootMeanSquaredError',\n",
       " 'SensitivityAtSpecificity',\n",
       " 'SparseCategoricalAccuracy',\n",
       " 'SparseCategoricalCrossentropy',\n",
       " 'SparseTopKCategoricalAccuracy',\n",
       " 'SpecificityAtSensitivity',\n",
       " 'SquaredHinge',\n",
       " 'Sum',\n",
       " 'TopKCategoricalAccuracy',\n",
       " 'TrueNegatives',\n",
       " 'TruePositives',\n",
       " 'binary_accuracy',\n",
       " 'categorical_accuracy',\n",
       " 'deserialize',\n",
       " 'get',\n",
       " 'serialize',\n",
       " 'sparse_categorical_accuracy',\n",
       " 'sparse_top_k_categorical_accuracy',\n",
       " 'top_k_categorical_accuracy']"
      ]
     },
     "execution_count": 11,
     "metadata": {},
     "output_type": "execute_result"
    }
   ],
   "source": [
    "new_dir = lambda func: list(filter(lambda x: False if x.startswith('_') else True,func.__dir__()))\n",
    "new_dir(metrics)"
   ]
  },
  {
   "cell_type": "code",
   "execution_count": 12,
   "metadata": {},
   "outputs": [
    {
     "name": "stdout",
     "output_type": "stream",
     "text": [
      "Calculates how often predictions match binary labels.\n",
      "\n",
      "  Standalone usage:\n",
      "  >>> y_true = [[1], [1], [0], [0]]\n",
      "  >>> y_pred = [[1], [1], [0], [0]]\n",
      "  >>> m = tf.keras.metrics.binary_accuracy(y_true, y_pred)\n",
      "  >>> assert m.shape == (4,)\n",
      "  >>> m.numpy()\n",
      "  array([1., 1., 1., 1.], dtype=float32)\n",
      "\n",
      "  Args:\n",
      "    y_true: Ground truth values. shape = `[batch_size, d0, .. dN]`.\n",
      "    y_pred: The predicted values. shape = `[batch_size, d0, .. dN]`.\n",
      "    threshold: (Optional) Float representing the threshold for deciding whether\n",
      "      prediction values are 1 or 0.\n",
      "\n",
      "  Returns:\n",
      "    Binary accuracy values. shape = `[batch_size, d0, .. dN-1]`\n",
      "  \n"
     ]
    }
   ],
   "source": [
    "print(metrics.binary_accuracy.__doc__)"
   ]
  },
  {
   "cell_type": "code",
   "execution_count": 13,
   "metadata": {},
   "outputs": [],
   "source": [
    "model = models.Sequential()\n",
    "model.add(layers.Dense(16, activation='relu', input_shape= (10000,)))\n",
    "model.add(layers.Dense(16, activation='relu'))\n",
    "model.add(layers.Dense(1, activation='sigmoid'))\n",
    "model.compile(optimizer='RMSprop',\n",
    "              loss='binary_crossentropy',\n",
    "              metrics='accuracy')"
   ]
  },
  {
   "cell_type": "markdown",
   "metadata": {},
   "source": [
    "## Detectar overfitting"
   ]
  },
  {
   "cell_type": "code",
   "execution_count": 14,
   "metadata": {},
   "outputs": [],
   "source": [
    "X_val = X_train[:10000]\n",
    "partial_X_val = X_train[10000:]\n",
    "\n",
    "y_val = y_train[:10000]\n",
    "partial_y_val = y_train[10000:]"
   ]
  },
  {
   "cell_type": "code",
   "execution_count": 15,
   "metadata": {},
   "outputs": [
    {
     "data": {
      "text/plain": [
       "(10000, 10000)"
      ]
     },
     "execution_count": 15,
     "metadata": {},
     "output_type": "execute_result"
    }
   ],
   "source": [
    "X_val.shape"
   ]
  },
  {
   "cell_type": "code",
   "execution_count": 16,
   "metadata": {},
   "outputs": [
    {
     "data": {
      "text/plain": [
       "(15000, 10000)"
      ]
     },
     "execution_count": 16,
     "metadata": {},
     "output_type": "execute_result"
    }
   ],
   "source": [
    "partial_X_val.shape"
   ]
  },
  {
   "cell_type": "code",
   "execution_count": 17,
   "metadata": {},
   "outputs": [
    {
     "name": "stdout",
     "output_type": "stream",
     "text": [
      "Epoch 1/20\n",
      "30/30 [==============================] - 2s 41ms/step - loss: 0.5219 - accuracy: 0.7859 - val_loss: 0.3894 - val_accuracy: 0.8659\n",
      "Epoch 2/20\n",
      "30/30 [==============================] - 1s 29ms/step - loss: 0.3033 - accuracy: 0.9053 - val_loss: 0.3031 - val_accuracy: 0.8881\n",
      "Epoch 3/20\n",
      "30/30 [==============================] - 1s 25ms/step - loss: 0.2227 - accuracy: 0.9268 - val_loss: 0.3010 - val_accuracy: 0.8763\n",
      "Epoch 4/20\n",
      "30/30 [==============================] - 1s 31ms/step - loss: 0.1764 - accuracy: 0.9426 - val_loss: 0.2876 - val_accuracy: 0.8840\n",
      "Epoch 5/20\n",
      "30/30 [==============================] - 1s 24ms/step - loss: 0.1439 - accuracy: 0.9541 - val_loss: 0.2850 - val_accuracy: 0.8839\n",
      "Epoch 6/20\n",
      "30/30 [==============================] - 1s 26ms/step - loss: 0.1190 - accuracy: 0.9638 - val_loss: 0.2976 - val_accuracy: 0.8852\n",
      "Epoch 7/20\n",
      "30/30 [==============================] - 1s 29ms/step - loss: 0.0998 - accuracy: 0.9711 - val_loss: 0.3168 - val_accuracy: 0.8807\n",
      "Epoch 8/20\n",
      "30/30 [==============================] - 1s 24ms/step - loss: 0.0860 - accuracy: 0.9741 - val_loss: 0.3267 - val_accuracy: 0.8811\n",
      "Epoch 9/20\n",
      "30/30 [==============================] - 1s 23ms/step - loss: 0.0687 - accuracy: 0.9819 - val_loss: 0.3476 - val_accuracy: 0.8815\n",
      "Epoch 10/20\n",
      "30/30 [==============================] - 1s 19ms/step - loss: 0.0562 - accuracy: 0.9851 - val_loss: 0.3843 - val_accuracy: 0.8744\n",
      "Epoch 11/20\n",
      "30/30 [==============================] - 1s 23ms/step - loss: 0.0463 - accuracy: 0.9885 - val_loss: 0.4348 - val_accuracy: 0.8708\n",
      "Epoch 12/20\n",
      "30/30 [==============================] - 1s 29ms/step - loss: 0.0392 - accuracy: 0.9905 - val_loss: 0.4386 - val_accuracy: 0.8746\n",
      "Epoch 13/20\n",
      "30/30 [==============================] - 1s 22ms/step - loss: 0.0305 - accuracy: 0.9941 - val_loss: 0.4631 - val_accuracy: 0.8740\n",
      "Epoch 14/20\n",
      "30/30 [==============================] - 1s 24ms/step - loss: 0.0249 - accuracy: 0.9952 - val_loss: 0.4956 - val_accuracy: 0.8733\n",
      "Epoch 15/20\n",
      "30/30 [==============================] - 1s 22ms/step - loss: 0.0215 - accuracy: 0.9959 - val_loss: 0.5303 - val_accuracy: 0.8708\n",
      "Epoch 16/20\n",
      "30/30 [==============================] - 1s 31ms/step - loss: 0.0148 - accuracy: 0.9979 - val_loss: 0.5627 - val_accuracy: 0.8699\n",
      "Epoch 17/20\n",
      "30/30 [==============================] - 1s 24ms/step - loss: 0.0146 - accuracy: 0.9973 - val_loss: 0.5935 - val_accuracy: 0.8671\n",
      "Epoch 18/20\n",
      "30/30 [==============================] - 1s 25ms/step - loss: 0.0130 - accuracy: 0.9976 - val_loss: 0.6264 - val_accuracy: 0.8669\n",
      "Epoch 19/20\n",
      "30/30 [==============================] - 1s 25ms/step - loss: 0.0059 - accuracy: 0.9998 - val_loss: 0.6524 - val_accuracy: 0.8673\n",
      "Epoch 20/20\n",
      "30/30 [==============================] - 1s 23ms/step - loss: 0.0093 - accuracy: 0.9981 - val_loss: 0.6884 - val_accuracy: 0.8642\n"
     ]
    }
   ],
   "source": [
    "history = model.fit(partial_X_val, partial_y_val,\n",
    "                    epochs=20,\n",
    "                    batch_size=512,\n",
    "                    validation_data=(X_val, y_val))"
   ]
  },
  {
   "cell_type": "code",
   "execution_count": 18,
   "metadata": {},
   "outputs": [],
   "source": [
    "import matplotlib.pyplot as plt\n",
    "\n",
    "history_dict = history.history"
   ]
  },
  {
   "cell_type": "code",
   "execution_count": 19,
   "metadata": {},
   "outputs": [],
   "source": [
    "loss_values = history_dict['loss']\n",
    "val_loss_values = history_dict['val_loss']"
   ]
  },
  {
   "cell_type": "code",
   "execution_count": 20,
   "metadata": {},
   "outputs": [
    {
     "data": {
      "image/png": "[encoded data removed]",
      "text/plain": [
       "<Figure size 432x288 with 1 Axes>"
      ]
     },
     "metadata": {
      "needs_background": "light"
     },
     "output_type": "display_data"
    }
   ],
   "source": [
    "epoch = range(1,len(loss_values) + 1)\n",
    "plt.plot(epoch, loss_values, 'o-', label='training')\n",
    "plt.plot(epoch, val_loss_values, 'o--', label='training_values')\n",
    "plt.legend()\n",
    "plt.show()"
   ]
  },
  {
   "cell_type": "markdown",
   "metadata": {},
   "source": [
    "## Regularizaciones\n",
    "\n",
    "1. _L1 Regularization_\n",
    "\n",
    "$$\\text{cost} = \\sum_{i=0}^{N} \\left(y_i - \\sum_{j=0}^{M} x_{ij} W_j \\right)^2 + \\lambda \\sum_{j=0}^{M} |W_j|$$\n",
    "\n",
    "2. _L2 Regularization_\n",
    "\n",
    "$$\\text{cost} = \\sum_{i=0}^{N} \\left(y_i - \\sum_{j=0}^{M} x_{ij} W_j \\right)^2 + \\lambda \\sum_{j=0}^{M} {W_j}^2$$\n",
    "\n",
    "3. _Drop-out_\n",
    "\n",
    "    Apagar aleatoriamente ciertas neuronas."
   ]
  },
  {
   "cell_type": "code",
   "execution_count": 21,
   "metadata": {},
   "outputs": [
    {
     "name": "stdout",
     "output_type": "stream",
     "text": [
      "Epoch 1/20\n",
      "30/30 [==============================] - 2s 29ms/step - loss: 0.5444 - accuracy: 0.7773 - val_loss: 0.4448 - val_accuracy: 0.8569\n",
      "Epoch 2/20\n",
      "30/30 [==============================] - 1s 24ms/step - loss: 0.3673 - accuracy: 0.8948 - val_loss: 0.3535 - val_accuracy: 0.8816\n",
      "Epoch 3/20\n",
      "30/30 [==============================] - 1s 24ms/step - loss: 0.2836 - accuracy: 0.9169 - val_loss: 0.3103 - val_accuracy: 0.8878\n",
      "Epoch 4/20\n",
      "30/30 [==============================] - 1s 26ms/step - loss: 0.2306 - accuracy: 0.9316 - val_loss: 0.3042 - val_accuracy: 0.8780\n",
      "Epoch 5/20\n",
      "30/30 [==============================] - 1s 22ms/step - loss: 0.1947 - accuracy: 0.9415 - val_loss: 0.2775 - val_accuracy: 0.8925\n",
      "Epoch 6/20\n",
      "30/30 [==============================] - 1s 21ms/step - loss: 0.1669 - accuracy: 0.9505 - val_loss: 0.2879 - val_accuracy: 0.8845\n",
      "Epoch 7/20\n",
      "30/30 [==============================] - 1s 22ms/step - loss: 0.1466 - accuracy: 0.9565 - val_loss: 0.2773 - val_accuracy: 0.8882\n",
      "Epoch 8/20\n",
      "30/30 [==============================] - 1s 26ms/step - loss: 0.1284 - accuracy: 0.9637 - val_loss: 0.2893 - val_accuracy: 0.8848\n",
      "Epoch 9/20\n",
      "30/30 [==============================] - 1s 25ms/step - loss: 0.1124 - accuracy: 0.9694 - val_loss: 0.2898 - val_accuracy: 0.8847\n",
      "Epoch 10/20\n",
      "30/30 [==============================] - 1s 26ms/step - loss: 0.0998 - accuracy: 0.9729 - val_loss: 0.2969 - val_accuracy: 0.8836\n",
      "Epoch 11/20\n",
      "30/30 [==============================] - 1s 26ms/step - loss: 0.0872 - accuracy: 0.9779 - val_loss: 0.3081 - val_accuracy: 0.8829\n",
      "Epoch 12/20\n",
      "30/30 [==============================] - 1s 26ms/step - loss: 0.0780 - accuracy: 0.9813 - val_loss: 0.3227 - val_accuracy: 0.8801\n",
      "Epoch 13/20\n",
      "30/30 [==============================] - 1s 28ms/step - loss: 0.0673 - accuracy: 0.9845 - val_loss: 0.3350 - val_accuracy: 0.8815\n",
      "Epoch 14/20\n",
      "30/30 [==============================] - 1s 26ms/step - loss: 0.0609 - accuracy: 0.9868 - val_loss: 0.3488 - val_accuracy: 0.8800\n",
      "Epoch 15/20\n",
      "30/30 [==============================] - 1s 30ms/step - loss: 0.0522 - accuracy: 0.9884 - val_loss: 0.3783 - val_accuracy: 0.8764\n",
      "Epoch 16/20\n",
      "30/30 [==============================] - 1s 35ms/step - loss: 0.0464 - accuracy: 0.9909 - val_loss: 0.3864 - val_accuracy: 0.8738\n",
      "Epoch 17/20\n",
      "30/30 [==============================] - 1s 27ms/step - loss: 0.0408 - accuracy: 0.9918 - val_loss: 0.4013 - val_accuracy: 0.8774\n",
      "Epoch 18/20\n",
      "30/30 [==============================] - 1s 28ms/step - loss: 0.0357 - accuracy: 0.9936 - val_loss: 0.4198 - val_accuracy: 0.8763\n",
      "Epoch 19/20\n",
      "30/30 [==============================] - 1s 29ms/step - loss: 0.0309 - accuracy: 0.9952 - val_loss: 0.4534 - val_accuracy: 0.8677\n",
      "Epoch 20/20\n",
      "30/30 [==============================] - 1s 25ms/step - loss: 0.0269 - accuracy: 0.9963 - val_loss: 0.4577 - val_accuracy: 0.8736\n"
     ]
    }
   ],
   "source": [
    "model2 = models.Sequential()\n",
    "model2.add(layers.Dense(4, activation='relu', input_shape= (10000,)))\n",
    "model2.add(layers.Dense(4, activation='relu'))\n",
    "model2.add(layers.Dense(1, activation='sigmoid'))\n",
    "model2.compile(optimizer='RMSprop',\n",
    "              loss='binary_crossentropy',\n",
    "              metrics='accuracy')\n",
    "\n",
    "history2 = model2.fit(partial_X_val, partial_y_val,\n",
    "                    epochs=20,\n",
    "                    batch_size=512,\n",
    "                    validation_data=(X_val, y_val))"
   ]
  },
  {
   "cell_type": "code",
   "execution_count": 22,
   "metadata": {},
   "outputs": [
    {
     "data": {
      "image/png": "[encoded data removed]",
      "text/plain": [
       "<Figure size 432x288 with 1 Axes>"
      ]
     },
     "metadata": {
      "needs_background": "light"
     },
     "output_type": "display_data"
    }
   ],
   "source": [
    "history_dict2 = history2.history\n",
    "loss_values2 = history_dict2['loss']\n",
    "val_loss_values_2 = history_dict2['val_loss']\n",
    "epoch = range(1,len(loss_values) + 1)\n",
    "plt.plot(epoch, val_loss_values_2, 'o-', label='smaller')\n",
    "plt.plot(epoch, val_loss_values, 'o--', label='bigger')\n",
    "plt.legend()\n",
    "plt.show()"
   ]
  },
  {
   "cell_type": "code",
   "execution_count": 23,
   "metadata": {},
   "outputs": [],
   "source": [
    "from keras import regularizers"
   ]
  },
  {
   "cell_type": "code",
   "execution_count": 24,
   "metadata": {},
   "outputs": [
    {
     "name": "stdout",
     "output_type": "stream",
     "text": [
      "Epoch 1/20\n",
      "30/30 [==============================] - 2s 48ms/step - loss: 0.5813 - accuracy: 0.7739 - val_loss: 0.4499 - val_accuracy: 0.8620\n",
      "Epoch 2/20\n",
      "30/30 [==============================] - 1s 30ms/step - loss: 0.3694 - accuracy: 0.8991 - val_loss: 0.3654 - val_accuracy: 0.8824\n",
      "Epoch 3/20\n",
      "30/30 [==============================] - 1s 33ms/step - loss: 0.2938 - accuracy: 0.9199 - val_loss: 0.3422 - val_accuracy: 0.8846\n",
      "Epoch 4/20\n",
      "30/30 [==============================] - 1s 30ms/step - loss: 0.2498 - accuracy: 0.9373 - val_loss: 0.3462 - val_accuracy: 0.8784\n",
      "Epoch 5/20\n",
      "30/30 [==============================] - 1s 27ms/step - loss: 0.2262 - accuracy: 0.9431 - val_loss: 0.3363 - val_accuracy: 0.8859\n",
      "Epoch 6/20\n",
      "30/30 [==============================] - 1s 29ms/step - loss: 0.2117 - accuracy: 0.9485 - val_loss: 0.3537 - val_accuracy: 0.8831\n",
      "Epoch 7/20\n",
      "30/30 [==============================] - 1s 29ms/step - loss: 0.1937 - accuracy: 0.9558 - val_loss: 0.3466 - val_accuracy: 0.8834\n",
      "Epoch 8/20\n",
      "30/30 [==============================] - 1s 30ms/step - loss: 0.1905 - accuracy: 0.9569 - val_loss: 0.3602 - val_accuracy: 0.8828\n",
      "Epoch 9/20\n",
      "30/30 [==============================] - 1s 31ms/step - loss: 0.1735 - accuracy: 0.9649 - val_loss: 0.3796 - val_accuracy: 0.8800\n",
      "Epoch 10/20\n",
      "30/30 [==============================] - 1s 26ms/step - loss: 0.1685 - accuracy: 0.9673 - val_loss: 0.4084 - val_accuracy: 0.8641\n",
      "Epoch 11/20\n",
      "30/30 [==============================] - 1s 25ms/step - loss: 0.1675 - accuracy: 0.9654 - val_loss: 0.3903 - val_accuracy: 0.8801\n",
      "Epoch 12/20\n",
      "30/30 [==============================] - 1s 28ms/step - loss: 0.1577 - accuracy: 0.9703 - val_loss: 0.4669 - val_accuracy: 0.8626\n",
      "Epoch 13/20\n",
      "30/30 [==============================] - 1s 30ms/step - loss: 0.1500 - accuracy: 0.9741 - val_loss: 0.4013 - val_accuracy: 0.8748\n",
      "Epoch 14/20\n",
      "30/30 [==============================] - 1s 30ms/step - loss: 0.1480 - accuracy: 0.9740 - val_loss: 0.4677 - val_accuracy: 0.8549\n",
      "Epoch 15/20\n",
      "30/30 [==============================] - 1s 26ms/step - loss: 0.1455 - accuracy: 0.9752 - val_loss: 0.4155 - val_accuracy: 0.8743\n",
      "Epoch 16/20\n",
      "30/30 [==============================] - 1s 25ms/step - loss: 0.1459 - accuracy: 0.9739 - val_loss: 0.4221 - val_accuracy: 0.8762\n",
      "Epoch 17/20\n",
      "30/30 [==============================] - 1s 26ms/step - loss: 0.1368 - accuracy: 0.9791 - val_loss: 0.4272 - val_accuracy: 0.8705\n",
      "Epoch 18/20\n",
      "30/30 [==============================] - 1s 32ms/step - loss: 0.1322 - accuracy: 0.9798 - val_loss: 0.4791 - val_accuracy: 0.8574\n",
      "Epoch 19/20\n",
      "30/30 [==============================] - 1s 28ms/step - loss: 0.1347 - accuracy: 0.9783 - val_loss: 0.4670 - val_accuracy: 0.8606\n",
      "Epoch 20/20\n",
      "30/30 [==============================] - 1s 27ms/step - loss: 0.1295 - accuracy: 0.9811 - val_loss: 0.4472 - val_accuracy: 0.8711\n"
     ]
    }
   ],
   "source": [
    "model3 = models.Sequential()\n",
    "model3.add(layers.Dense(16, activation='relu', input_shape= (10000,),\n",
    "                       kernel_regularizer=regularizers.l2(0.001)))\n",
    "model3.add(layers.Dense(16, activation='relu',\n",
    "                       kernel_regularizer=regularizers.l2(0.001)))\n",
    "model3.add(layers.Dense(1, activation='sigmoid'))\n",
    "model3.compile(optimizer='RMSprop',\n",
    "              loss='binary_crossentropy',\n",
    "              metrics='accuracy')\n",
    "\n",
    "history3 = model3.fit(partial_X_val, partial_y_val,\n",
    "                    epochs=20,\n",
    "                    batch_size=512,\n",
    "                    validation_data=(X_val, y_val))"
   ]
  },
  {
   "cell_type": "code",
   "execution_count": 25,
   "metadata": {},
   "outputs": [
    {
     "data": {
      "image/png": "[encoded data removed]",
      "text/plain": [
       "<Figure size 432x288 with 1 Axes>"
      ]
     },
     "metadata": {
      "needs_background": "light"
     },
     "output_type": "display_data"
    }
   ],
   "source": [
    "history_dict3 = history3.history\n",
    "loss_values_3 = history_dict3['loss']\n",
    "val_loss_values_3 = history_dict3['val_loss']\n",
    "epoch = range(1,len(loss_values) + 1)\n",
    "plt.plot(epoch, val_loss_values_3, 'o-', label='smaller')\n",
    "plt.plot(epoch, val_loss_values, 'o--', label='bigger')\n",
    "plt.legend()\n",
    "plt.show()"
   ]
  }
 ],
 "metadata": {
  "kernelspec": {
   "display_name": "Python 3.9.13 ('keras')",
   "language": "python",
   "name": "python3"
  },
  "language_info": {
   "codemirror_mode": {
    "name": "ipython",
    "version": 3
   },
   "file_extension": ".py",
   "mimetype": "text/x-python",
   "name": "python",
   "nbconvert_exporter": "python",
   "pygments_lexer": "ipython3",
   "version": "3.9.13"
  },
  "orig_nbformat": 4,
  "vscode": {
   "interpreter": {
    "hash": "cab762abd1b5be49b5e7e0f864397448e1361aa5c3e6c6b0f1af018e88764941"
   }
  }
 },
 "nbformat": 4,
 "nbformat_minor": 2
}
