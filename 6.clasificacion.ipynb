{
 "cells": [
  {
   "cell_type": "code",
   "execution_count": 24,
   "metadata": {},
   "outputs": [],
   "source": [
    "import numpy as np\n",
    "from keras import (\n",
    "    layers, models, regularizers\n",
    ")\n",
    "from keras.datasets import reuters"
   ]
  },
  {
   "cell_type": "code",
   "execution_count": 25,
   "metadata": {},
   "outputs": [],
   "source": [
    "(train_data, train_labels), (test_data, test_labels) = reuters.load_data(num_words=1000)"
   ]
  },
  {
   "cell_type": "code",
   "execution_count": 26,
   "metadata": {},
   "outputs": [],
   "source": [
    "word_dict = reuters.get_word_index()\n",
    "word_dict = {value: key for key, value in word_dict.items()}"
   ]
  },
  {
   "cell_type": "code",
   "execution_count": 27,
   "metadata": {},
   "outputs": [
    {
     "name": "stdout",
     "output_type": "stream",
     "text": [
      "None\n",
      "None\n",
      "None\n",
      "said\n",
      "as\n",
      "a\n",
      "result\n",
      "of\n",
      "its\n",
      "december\n",
      "acquisition\n",
      "of\n",
      "None\n",
      "co\n",
      "it\n",
      "expects\n",
      "earnings\n",
      "per\n",
      "share\n",
      "in\n",
      "1987\n",
      "of\n",
      "1\n",
      "15\n",
      "to\n",
      "1\n",
      "30\n",
      "dlrs\n",
      "per\n",
      "share\n",
      "up\n",
      "from\n",
      "70\n",
      "cts\n",
      "in\n",
      "1986\n",
      "the\n",
      "company\n",
      "said\n",
      "pretax\n",
      "net\n",
      "should\n",
      "rise\n",
      "to\n",
      "nine\n",
      "to\n",
      "10\n",
      "mln\n",
      "dlrs\n",
      "from\n",
      "six\n",
      "mln\n",
      "dlrs\n",
      "in\n",
      "1986\n",
      "and\n",
      "None\n",
      "None\n",
      "revenues\n",
      "to\n",
      "19\n",
      "to\n",
      "22\n",
      "mln\n",
      "dlrs\n",
      "from\n",
      "12\n",
      "5\n",
      "mln\n",
      "dlrs\n",
      "it\n",
      "said\n",
      "cash\n",
      "None\n",
      "per\n",
      "share\n",
      "this\n",
      "year\n",
      "should\n",
      "be\n",
      "2\n",
      "50\n",
      "to\n",
      "three\n",
      "dlrs\n",
      "reuter\n",
      "3\n"
     ]
    }
   ],
   "source": [
    "for _ in train_data[0]:\n",
    "    print(word_dict.get(_ - 3))"
   ]
  },
  {
   "cell_type": "code",
   "execution_count": 28,
   "metadata": {},
   "outputs": [
    {
     "data": {
      "text/plain": [
       "3"
      ]
     },
     "execution_count": 28,
     "metadata": {},
     "output_type": "execute_result"
    }
   ],
   "source": [
    "train_labels[0]"
   ]
  },
  {
   "cell_type": "code",
   "execution_count": 29,
   "metadata": {},
   "outputs": [
    {
     "data": {
      "text/plain": [
       "(8982,)"
      ]
     },
     "execution_count": 29,
     "metadata": {},
     "output_type": "execute_result"
    }
   ],
   "source": [
    "train_data.shape"
   ]
  },
  {
   "cell_type": "code",
   "execution_count": 30,
   "metadata": {},
   "outputs": [],
   "source": [
    "def vectorize(sequences, dim=10000):\n",
    "    results = np.zeros((len(sequences), dim))\n",
    "    for i, sequences in enumerate(sequences):\n",
    "        results[i, sequences] = 1\n",
    "    return results"
   ]
  },
  {
   "cell_type": "code",
   "execution_count": 31,
   "metadata": {},
   "outputs": [],
   "source": [
    "X_train = vectorize(train_data)\n",
    "X_test = vectorize(test_data)"
   ]
  },
  {
   "cell_type": "code",
   "execution_count": 32,
   "metadata": {},
   "outputs": [],
   "source": [
    "from tensorflow.keras.utils import to_categorical"
   ]
  },
  {
   "cell_type": "code",
   "execution_count": 33,
   "metadata": {},
   "outputs": [],
   "source": [
    "y_train = to_categorical(train_labels)\n",
    "y_test = to_categorical(test_labels)"
   ]
  },
  {
   "cell_type": "markdown",
   "metadata": {},
   "source": [
    "# Model"
   ]
  },
  {
   "cell_type": "code",
   "execution_count": 34,
   "metadata": {},
   "outputs": [],
   "source": [
    "from keras import regularizers"
   ]
  },
  {
   "cell_type": "code",
   "execution_count": 35,
   "metadata": {},
   "outputs": [],
   "source": [
    "# model = models.Sequential()\n",
    "# model.add(layers.Dense(40, activation='relu', input_shape = (10000,),\n",
    "#                        kernel_regularizer=regularizers.l1_l2(l1=0.00005,l2=0.001)))\n",
    "# model.add(layers.Dropout(0.15))\n",
    "# model.add(layers.Dense(30, activation='relu',\n",
    "#                        kernel_regularizer=regularizers.l2(0.0001)))\n",
    "# model.add(layers.Dropout(0.1))\n",
    "# model.add(layers.Dense(46, activation='softmax'))"
   ]
  },
  {
   "cell_type": "code",
   "execution_count": 62,
   "metadata": {},
   "outputs": [],
   "source": [
    "model = models.Sequential()\n",
    "model.add(layers.Dense(70, activation='relu', input_shape = (10000,),\n",
    "                       kernel_regularizer=regularizers.l2(l2=0.001)\n",
    "                       ))\n",
    "model.add(layers.Dropout(0.75))\n",
    "model.add(layers.Dense(90, activation='relu',\n",
    "                       kernel_regularizer=regularizers.l2(0.001)))\n",
    "model.add(layers.Dropout(0.25))\n",
    "model.add(layers.Dense(46, activation='softmax'))"
   ]
  },
  {
   "cell_type": "code",
   "execution_count": 63,
   "metadata": {},
   "outputs": [],
   "source": [
    "model.compile(optimizer='rmsprop',\n",
    "              loss='categorical_crossentropy',\n",
    "              metrics=['accuracy'])"
   ]
  },
  {
   "cell_type": "code",
   "execution_count": 38,
   "metadata": {},
   "outputs": [],
   "source": [
    "# old\n",
    "X_val = X_train[:1000]\n",
    "partial_X_train = X_train[1000:]\n",
    "y_val = y_train[:1000]\n",
    "partial_y_train = y_train[1000:]"
   ]
  },
  {
   "cell_type": "code",
   "execution_count": 39,
   "metadata": {},
   "outputs": [],
   "source": [
    "# n = X_train.shape[0]\n",
    "# size = 100\n",
    "# idx = np.random.choice(range(n), size)\n",
    "\n",
    "# X_val = X_train[idx]\n",
    "# partial_X_train = X_train[~idx]\n",
    "# y_val = y_train[idx]\n",
    "# partial_y_train = y_train[~idx]"
   ]
  },
  {
   "cell_type": "markdown",
   "metadata": {},
   "source": [
    "# Training"
   ]
  },
  {
   "cell_type": "code",
   "execution_count": 64,
   "metadata": {},
   "outputs": [
    {
     "name": "stdout",
     "output_type": "stream",
     "text": [
      "Epoch 1/30\n",
      "18/18 [==============================] - 2s 58ms/step - loss: 3.1221 - accuracy: 0.3517 - val_loss: 2.2193 - val_accuracy: 0.5307\n",
      "Epoch 2/30\n",
      "18/18 [==============================] - 1s 40ms/step - loss: 2.1655 - accuracy: 0.5011 - val_loss: 1.8058 - val_accuracy: 0.5654\n",
      "Epoch 3/30\n",
      "18/18 [==============================] - 1s 42ms/step - loss: 1.8931 - accuracy: 0.5577 - val_loss: 1.6522 - val_accuracy: 0.6460\n",
      "Epoch 4/30\n",
      "18/18 [==============================] - 1s 38ms/step - loss: 1.7533 - accuracy: 0.5976 - val_loss: 1.5702 - val_accuracy: 0.6754\n",
      "Epoch 5/30\n",
      "18/18 [==============================] - 1s 40ms/step - loss: 1.6696 - accuracy: 0.6244 - val_loss: 1.4953 - val_accuracy: 0.6843\n",
      "Epoch 6/30\n",
      "18/18 [==============================] - 1s 44ms/step - loss: 1.5798 - accuracy: 0.6426 - val_loss: 1.4450 - val_accuracy: 0.6937\n",
      "Epoch 7/30\n",
      "18/18 [==============================] - 1s 40ms/step - loss: 1.5421 - accuracy: 0.6594 - val_loss: 1.4039 - val_accuracy: 0.6950\n",
      "Epoch 8/30\n",
      "18/18 [==============================] - 1s 43ms/step - loss: 1.4824 - accuracy: 0.6703 - val_loss: 1.3769 - val_accuracy: 0.7044\n",
      "Epoch 9/30\n",
      "18/18 [==============================] - 1s 41ms/step - loss: 1.4478 - accuracy: 0.6769 - val_loss: 1.3507 - val_accuracy: 0.7053\n",
      "Epoch 10/30\n",
      "18/18 [==============================] - 1s 41ms/step - loss: 1.4240 - accuracy: 0.6817 - val_loss: 1.3407 - val_accuracy: 0.7106\n",
      "Epoch 11/30\n",
      "18/18 [==============================] - 1s 44ms/step - loss: 1.3883 - accuracy: 0.6908 - val_loss: 1.3118 - val_accuracy: 0.7133\n",
      "Epoch 12/30\n",
      "18/18 [==============================] - 1s 40ms/step - loss: 1.3635 - accuracy: 0.6925 - val_loss: 1.2989 - val_accuracy: 0.7186\n",
      "Epoch 13/30\n",
      "18/18 [==============================] - 1s 43ms/step - loss: 1.3450 - accuracy: 0.7000 - val_loss: 1.2836 - val_accuracy: 0.7217\n",
      "Epoch 14/30\n",
      "18/18 [==============================] - 1s 45ms/step - loss: 1.3151 - accuracy: 0.7051 - val_loss: 1.2734 - val_accuracy: 0.7262\n",
      "Epoch 15/30\n",
      "18/18 [==============================] - 1s 42ms/step - loss: 1.3105 - accuracy: 0.7057 - val_loss: 1.2621 - val_accuracy: 0.7257\n",
      "Epoch 16/30\n",
      "18/18 [==============================] - 1s 42ms/step - loss: 1.2696 - accuracy: 0.7154 - val_loss: 1.2522 - val_accuracy: 0.7351\n",
      "Epoch 17/30\n",
      "18/18 [==============================] - 1s 40ms/step - loss: 1.2780 - accuracy: 0.7161 - val_loss: 1.2361 - val_accuracy: 0.7355\n",
      "Epoch 18/30\n",
      "18/18 [==============================] - 1s 40ms/step - loss: 1.2503 - accuracy: 0.7177 - val_loss: 1.2345 - val_accuracy: 0.7427\n",
      "Epoch 19/30\n",
      "18/18 [==============================] - 1s 39ms/step - loss: 1.2319 - accuracy: 0.7261 - val_loss: 1.2253 - val_accuracy: 0.7431\n",
      "Epoch 20/30\n",
      "18/18 [==============================] - 1s 40ms/step - loss: 1.2228 - accuracy: 0.7263 - val_loss: 1.2177 - val_accuracy: 0.7427\n",
      "Epoch 21/30\n",
      "18/18 [==============================] - 1s 38ms/step - loss: 1.1955 - accuracy: 0.7312 - val_loss: 1.2043 - val_accuracy: 0.7493\n",
      "Epoch 22/30\n",
      "18/18 [==============================] - 1s 42ms/step - loss: 1.2030 - accuracy: 0.7322 - val_loss: 1.1965 - val_accuracy: 0.7498\n",
      "Epoch 23/30\n",
      "18/18 [==============================] - 1s 37ms/step - loss: 1.1719 - accuracy: 0.7347 - val_loss: 1.1899 - val_accuracy: 0.7524\n",
      "Epoch 24/30\n",
      "18/18 [==============================] - 1s 38ms/step - loss: 1.1616 - accuracy: 0.7381 - val_loss: 1.1843 - val_accuracy: 0.7569\n",
      "Epoch 25/30\n",
      "18/18 [==============================] - 1s 39ms/step - loss: 1.1634 - accuracy: 0.7377 - val_loss: 1.1784 - val_accuracy: 0.7560\n",
      "Epoch 26/30\n",
      "18/18 [==============================] - 1s 40ms/step - loss: 1.1431 - accuracy: 0.7426 - val_loss: 1.1777 - val_accuracy: 0.7569\n",
      "Epoch 27/30\n",
      "18/18 [==============================] - 1s 38ms/step - loss: 1.1369 - accuracy: 0.7410 - val_loss: 1.1789 - val_accuracy: 0.7596\n",
      "Epoch 28/30\n",
      "18/18 [==============================] - 1s 38ms/step - loss: 1.1279 - accuracy: 0.7468 - val_loss: 1.1787 - val_accuracy: 0.7605\n",
      "Epoch 29/30\n",
      "18/18 [==============================] - 1s 43ms/step - loss: 1.1270 - accuracy: 0.7476 - val_loss: 1.1742 - val_accuracy: 0.7600\n",
      "Epoch 30/30\n",
      "18/18 [==============================] - 1s 37ms/step - loss: 1.1190 - accuracy: 0.7511 - val_loss: 1.1619 - val_accuracy: 0.7631\n"
     ]
    }
   ],
   "source": [
    "history = model.fit(X_train, y_train,\n",
    "          epochs=30,\n",
    "          batch_size=500,\n",
    "          validation_data=(X_test, y_test))"
   ]
  },
  {
   "cell_type": "markdown",
   "metadata": {},
   "source": [
    "# Plotting"
   ]
  },
  {
   "cell_type": "code",
   "execution_count": 41,
   "metadata": {},
   "outputs": [],
   "source": [
    "import matplotlib.pyplot as plt"
   ]
  },
  {
   "cell_type": "code",
   "execution_count": 42,
   "metadata": {},
   "outputs": [
    {
     "data": {
      "image/png": "[encoded data removed]",
      "text/plain": [
       "<Figure size 576x360 with 1 Axes>"
      ]
     },
     "metadata": {
      "needs_background": "light"
     },
     "output_type": "display_data"
    }
   ],
   "source": [
    "history_dict = history.history\n",
    "loss_values = history_dict['accuracy']\n",
    "val_loss_values = history_dict['val_accuracy']\n",
    "\n",
    "fig = plt.figure(figsize=(8,5))\n",
    "epochs = range(1,len(loss_values) + 1)\n",
    "plt.plot(epochs, loss_values, '.-',label='loss_values')\n",
    "plt.plot(epochs, val_loss_values, '.--', label='validation_loss_values')\n",
    "plt.legend()\n",
    "# plt.ylim(0.5,0.9)\n",
    "plt.show()"
   ]
  },
  {
   "cell_type": "code",
   "execution_count": 43,
   "metadata": {},
   "outputs": [
    {
     "name": "stdout",
     "output_type": "stream",
     "text": [
      "71/71 [==============================] - 2s 28ms/step - loss: 1.1569 - accuracy: 0.7529\n"
     ]
    },
    {
     "data": {
      "text/plain": [
       "[1.1569273471832275, 0.7528940439224243]"
      ]
     },
     "execution_count": 43,
     "metadata": {},
     "output_type": "execute_result"
    }
   ],
   "source": [
    "model.evaluate(X_test, y_test)"
   ]
  },
  {
   "cell_type": "code",
   "execution_count": 44,
   "metadata": {},
   "outputs": [],
   "source": [
    "predictions = model.predict(X_test)"
   ]
  },
  {
   "cell_type": "code",
   "execution_count": 45,
   "metadata": {},
   "outputs": [
    {
     "data": {
      "text/plain": [
       "0.99999994"
      ]
     },
     "execution_count": 45,
     "metadata": {},
     "output_type": "execute_result"
    }
   ],
   "source": [
    "np.sum(predictions[0])"
   ]
  },
  {
   "cell_type": "code",
   "execution_count": 46,
   "metadata": {},
   "outputs": [
    {
     "data": {
      "text/plain": [
       "array([ 3, 10,  1, ...,  3,  4,  1], dtype=int64)"
      ]
     },
     "execution_count": 46,
     "metadata": {},
     "output_type": "execute_result"
    }
   ],
   "source": [
    "predictions_labels = np.argmax(predictions, axis=1)\n",
    "predictions_labels"
   ]
  }
 ],
 "metadata": {
  "kernelspec": {
   "display_name": "Python 3.9.13 ('keras')",
   "language": "python",
   "name": "python3"
  },
  "language_info": {
   "codemirror_mode": {
    "name": "ipython",
    "version": 3
   },
   "file_extension": ".py",
   "mimetype": "text/x-python",
   "name": "python",
   "nbconvert_exporter": "python",
   "pygments_lexer": "ipython3",
   "version": "3.9.13"
  },
  "orig_nbformat": 4,
  "vscode": {
   "interpreter": {
    "hash": "cab762abd1b5be49b5e7e0f864397448e1361aa5c3e6c6b0f1af018e88764941"
   }
  }
 },
 "nbformat": 4,
 "nbformat_minor": 2
}
